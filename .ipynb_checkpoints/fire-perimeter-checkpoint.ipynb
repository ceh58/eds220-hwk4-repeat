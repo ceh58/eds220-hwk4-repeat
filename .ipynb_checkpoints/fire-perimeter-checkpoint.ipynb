{
 "cells": [
  {
   "cell_type": "markdown",
   "id": "d7b02e03-7bda-483d-bb74-038e049c96a7",
   "metadata": {},
   "source": [
    "# HWK4 Task 2: Fire Perimeter\n",
    "## Carmen Hoyt\n",
    "### [Current GitHub Repo](https://github.com/ceh58/eds220-hwk4-repeat.git)\n",
    "##### Note: eds220-hwk4-repeat was changed from the original [eds220-hwk4](https://github.com/ceh58/eds220-hwk4.git) repository after an issue with pushing to the original repository."
   ]
  },
  {
   "cell_type": "markdown",
   "id": "0f235894-43e6-483d-bd67-321d27297e8b",
   "metadata": {},
   "source": [
    "### About:\n",
    "- Purpose: \n",
    "\n",
    "The purpose of this task is to isolate the boundary of the Thomas Fire in 2017 from the Fire Perimeter dataset. \n",
    "\n",
    "- Highlights:\n",
    "\n",
    "This task explores filtering geo-dataframes.\n",
    "\n",
    "- Dataset description:\n",
    "\n",
    "Fire Perimeters Data:\n",
    "Open-source data containing information from the spatial distrubtion of past fires in California published by the State of California and downloaded as a shapefile. \n",
    "Accessed: November 19, 2024\n",
    "\n",
    "- References:\n",
    "\n",
    "Fire Perimeters Data:\n",
    "State of California, Kimberly Wallin. (2024). CAL FIRE: May 2024 (2024.05.14). https://catalog.data.gov/dataset/california-fire-perimeters-all-b3436"
   ]
  },
  {
   "cell_type": "code",
   "execution_count": 1,
   "id": "937cf209-8d9f-49ed-b3c5-601e0866df3a",
   "metadata": {
    "tags": []
   },
   "outputs": [],
   "source": [
    "import os\n",
    "import pandas as pd\n",
    "import geopandas as gpd\n",
    "import xarray as xr"
   ]
  },
  {
   "cell_type": "markdown",
   "id": "89c0cc70-9b0d-4c6d-a754-02c81bf0c677",
   "metadata": {
    "tags": []
   },
   "source": [
    "## 2. Fire perimeter data retrieval and selection\n"
   ]
  },
  {
   "cell_type": "code",
   "execution_count": 2,
   "id": "83dd5c90-6bec-47e3-b961-e29525ac69a9",
   "metadata": {
    "tags": []
   },
   "outputs": [
    {
     "name": "stderr",
     "output_type": "stream",
     "text": [
      "ERROR 1: PROJ: proj_create_from_database: Open of /opt/anaconda3/envs/eds220-env/share/proj failed\n"
     ]
    }
   ],
   "source": [
    "# Create filepath\n",
    "fp = os.path.join(\"data\", \"no_push\", \"California_Fire_Perimeters_(all).shp\")\n",
    "\n",
    "# Read in data\n",
    "fire_perimeter = gpd.read_file(fp)\n",
    "\n",
    "# Lower column names\n",
    "fire_perimeter.rename(columns=str.lower, inplace=True)"
   ]
  },
  {
   "cell_type": "code",
   "execution_count": 3,
   "id": "e898ffc4-0c7e-4288-acdd-9bfdd200af90",
   "metadata": {
    "tags": []
   },
   "outputs": [
    {
     "name": "stdout",
     "output_type": "stream",
     "text": [
      "dtypes: year_            int64\n",
      "state           object\n",
      "agency          object\n",
      "unit_id         object\n",
      "fire_name       object\n",
      "inc_num         object\n",
      "alarm_date      object\n",
      "cont_date       object\n",
      "cause            int64\n",
      "c_method         int64\n",
      "objective        int64\n",
      "gis_acres      float64\n",
      "comments        object\n",
      "complex_na      object\n",
      "irwinid         object\n",
      "fire_num        object\n",
      "complex_id      object\n",
      "decades          int64\n",
      "geometry      geometry\n",
      "dtype: object\n",
      "shape: (22261, 19)\n",
      "ellipsoid: WGS 84\n",
      "geometry:  ['Polygon', 'MultiPolygon']\n",
      "datum: World Geodetic System 1984 ensemble\n",
      "is geographic? False\n",
      "The crs is EPSG:3857.\n",
      "Is this CRS projected? True\n"
     ]
    }
   ],
   "source": [
    "# a. Preliminary exploration\n",
    "print('dtypes:', fire_perimeter.dtypes)\n",
    "print('shape:', fire_perimeter.shape)\n",
    "print('ellipsoid:', fire_perimeter.crs.ellipsoid)\n",
    "print('geometry: ', fire_perimeter.geom_type.unique().tolist())\n",
    "print('datum:', fire_perimeter.crs.datum)\n",
    "print('is geographic?', fire_perimeter.crs.is_geographic)\n",
    "\n",
    "# Identify CRS\n",
    "print(f'The crs is {fire_perimeter.crs}.')\n",
    "\n",
    "# Is it projected?\n",
    "print(\"Is this CRS projected?\", fire_perimeter.crs.is_projected)"
   ]
  },
  {
   "cell_type": "markdown",
   "id": "b43364ce-b43c-46d5-b673-9850666459a7",
   "metadata": {},
   "source": [
    "This data includes 22261 rows and 19 columns. Data types range from objects to integers and floats. The geometry includes multipolygons and polygons. The CRS is EPSG:3857. The geo-dataframe is not geographic; it is projected. "
   ]
  },
  {
   "cell_type": "code",
   "execution_count": 4,
   "id": "839ff9c1-a2f1-4b3c-a49f-f083b92fd8c0",
   "metadata": {
    "tags": []
   },
   "outputs": [
    {
     "data": {
      "text/html": [
       "<div>\n",
       "<style scoped>\n",
       "    .dataframe tbody tr th:only-of-type {\n",
       "        vertical-align: middle;\n",
       "    }\n",
       "\n",
       "    .dataframe tbody tr th {\n",
       "        vertical-align: top;\n",
       "    }\n",
       "\n",
       "    .dataframe thead th {\n",
       "        text-align: right;\n",
       "    }\n",
       "</style>\n",
       "<table border=\"1\" class=\"dataframe\">\n",
       "  <thead>\n",
       "    <tr style=\"text-align: right;\">\n",
       "      <th></th>\n",
       "      <th>year_</th>\n",
       "      <th>state</th>\n",
       "      <th>agency</th>\n",
       "      <th>unit_id</th>\n",
       "      <th>fire_name</th>\n",
       "      <th>inc_num</th>\n",
       "      <th>alarm_date</th>\n",
       "      <th>cont_date</th>\n",
       "      <th>cause</th>\n",
       "      <th>c_method</th>\n",
       "      <th>objective</th>\n",
       "      <th>gis_acres</th>\n",
       "      <th>comments</th>\n",
       "      <th>complex_na</th>\n",
       "      <th>irwinid</th>\n",
       "      <th>fire_num</th>\n",
       "      <th>complex_id</th>\n",
       "      <th>decades</th>\n",
       "      <th>geometry</th>\n",
       "    </tr>\n",
       "  </thead>\n",
       "  <tbody>\n",
       "    <tr>\n",
       "      <th>2654</th>\n",
       "      <td>2017</td>\n",
       "      <td>CA</td>\n",
       "      <td>USF</td>\n",
       "      <td>VNC</td>\n",
       "      <td>THOMAS</td>\n",
       "      <td>00003583</td>\n",
       "      <td>2017-12-04</td>\n",
       "      <td>2018-01-12</td>\n",
       "      <td>9</td>\n",
       "      <td>7</td>\n",
       "      <td>1</td>\n",
       "      <td>281791.0</td>\n",
       "      <td>CONT_DATE based on Inciweb</td>\n",
       "      <td>None</td>\n",
       "      <td>None</td>\n",
       "      <td>None</td>\n",
       "      <td>None</td>\n",
       "      <td>2010</td>\n",
       "      <td>MULTIPOLYGON (((-13316089.016 4088553.040, -13...</td>\n",
       "    </tr>\n",
       "  </tbody>\n",
       "</table>\n",
       "</div>"
      ],
      "text/plain": [
       "      year_ state agency unit_id fire_name   inc_num  alarm_date   cont_date  \\\n",
       "2654   2017    CA    USF     VNC    THOMAS  00003583  2017-12-04  2018-01-12   \n",
       "\n",
       "      cause  c_method  objective  gis_acres                    comments  \\\n",
       "2654      9         7          1   281791.0  CONT_DATE based on Inciweb   \n",
       "\n",
       "     complex_na irwinid fire_num complex_id  decades  \\\n",
       "2654       None    None     None       None     2010   \n",
       "\n",
       "                                               geometry  \n",
       "2654  MULTIPOLYGON (((-13316089.016 4088553.040, -13...  "
      ]
     },
     "execution_count": 4,
     "metadata": {},
     "output_type": "execute_result"
    }
   ],
   "source": [
    "# b. Select Thomas Fire boundary\n",
    "thomas_fire = fire_perimeter.loc[(fire_perimeter['fire_name'] == \"THOMAS\") & \n",
    "                                 (fire_perimeter['year_']== 2017)]\n",
    "thomas_fire.head()               "
   ]
  },
  {
   "cell_type": "code",
   "execution_count": 5,
   "id": "f5c6417b-ca1a-46a7-b191-a9922ae9d94e",
   "metadata": {
    "tags": []
   },
   "outputs": [],
   "source": [
    "# c. Save Thomas Fire boundary\n",
    "thomas_fire.to_file(os.path.join(\"data\", \"thomas_fire.shp\"))"
   ]
  },
  {
   "cell_type": "markdown",
   "id": "2672c617-5c61-42f2-a136-03598292d0fe",
   "metadata": {},
   "source": [
    "d. I chose a shapefile because I am familar with working with them and they can be used across multiple platforms (i.e. ArcGIS)."
   ]
  }
 ],
 "metadata": {
  "kernelspec": {
   "display_name": "Anaconda 3 (EDS220)",
   "language": "python",
   "name": "eds220-env"
  },
  "language_info": {
   "codemirror_mode": {
    "name": "ipython",
    "version": 3
   },
   "file_extension": ".py",
   "mimetype": "text/x-python",
   "name": "python",
   "nbconvert_exporter": "python",
   "pygments_lexer": "ipython3",
   "version": "3.11.4"
  }
 },
 "nbformat": 4,
 "nbformat_minor": 5
}
