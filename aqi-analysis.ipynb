{
 "cells": [
  {
   "cell_type": "code",
   "execution_count": null,
   "id": "efd20f2b-6a5f-44ca-b7f3-b48df1d6aa4a",
   "metadata": {},
   "outputs": [],
   "source": [
    "# Import packages\n",
    "import pandas as pd\n",
    "import matplotlib.pyplot as plt"
   ]
  },
  {
   "cell_type": "code",
   "execution_count": null,
   "id": "3a1d3a60-5226-4122-9565-ae1d0cfdfc88",
   "metadata": {},
   "outputs": [],
   "source": [
    "# Read in data\n",
    "aqi_17 = pd.read_csv(\"https://aqs.epa.gov/aqsweb/airdata/daily_aqi_by_county_2017.zip\", compression = 'zip')\n",
    "aqi_18 = pd.read_csv(\"https://aqs.epa.gov/aqsweb/airdata/daily_aqi_by_county_2018.zip\", compression = 'zip')"
   ]
  },
  {
   "cell_type": "code",
   "execution_count": null,
   "id": "5b62d411-6bad-452a-b918-23757957f88d",
   "metadata": {},
   "outputs": [],
   "source": [
    "# Concat the two data frames\n",
    "aqi = pd.concat([aqi_17, aqi_18])"
   ]
  },
  {
   "cell_type": "code",
   "execution_count": null,
   "id": "b71a42f9-c7be-49c9-bb49-eaa01b405ffd",
   "metadata": {},
   "outputs": [],
   "source": [
    "# Simplify column names\n",
    "aqi.columns = (aqi.columns\n",
    "                  .str.lower()\n",
    "                  .str.replace(' ','_'))"
   ]
  },
  {
   "cell_type": "code",
   "execution_count": null,
   "id": "bd6b2e3a-e4f1-448a-89d7-81447d43f996",
   "metadata": {},
   "outputs": [],
   "source": [
    "# Select only data from Santa Barbara County\n",
    "aqi_sb = aqi[aqi['county_name'] == \"Santa Barbara\"]"
   ]
  },
  {
   "cell_type": "code",
   "execution_count": null,
   "id": "bfc6ed34-1384-46ed-a465-13b89998194e",
   "metadata": {},
   "outputs": [],
   "source": [
    "# Remove `state_name`, `county_name`, `state_code`, and `county_code` columns\n",
    "aqi_sb = aqi_sb.drop(columns = ['state_name', 'county_name', 'state_code', 'county_code'])"
   ]
  },
  {
   "cell_type": "code",
   "execution_count": null,
   "id": "09293b4e-9d98-48cf-959a-dca3a60fde49",
   "metadata": {},
   "outputs": [],
   "source": [
    "# Update `date` to datetime object\n",
    "aqi_sb.date = pd.to_datetime(aqi_sb.date)"
   ]
  },
  {
   "cell_type": "code",
   "execution_count": null,
   "id": "6b08ce66-f7f7-4bf1-8c1a-31ff80efd85d",
   "metadata": {},
   "outputs": [],
   "source": [
    "# Update the index to be the date column\n",
    "aqi_sb = aqi_sb.set_index('date')"
   ]
  },
  {
   "cell_type": "code",
   "execution_count": null,
   "id": "fed65e23-f8ac-43f5-8985-54f89eb68961",
   "metadata": {},
   "outputs": [],
   "source": [
    "# Add AQI 5-day rolling mean to `aqi_sb` data frame\n",
    "aqi_sb['five_day_average'] = aqi_sb['aqi'].rolling('5D').mean()"
   ]
  },
  {
   "cell_type": "code",
   "execution_count": null,
   "id": "6479ff4b-240d-452e-b405-1a3266fe43fa",
   "metadata": {},
   "outputs": [],
   "source": [
    "# Plot AQI and AQI rolling mean \n",
    "aqi_sb.drop(columns = 'number_of_sites_reporting').plot.line(y = ['aqi', 'five_day_average'])\n",
    "plt.title(\"AQI in Santa Barbara County 2017-2018\")\n",
    "plt.xlabel(\"Date\")\n",
    "plt.ylabel(\"AQI\")\n",
    "plt.legend(['AQI', 'Five Day Average'])"
   ]
  }
 ],
 "metadata": {
  "kernelspec": {
   "display_name": "Anaconda 3 (EDS220)",
   "language": "python",
   "name": "eds220-env"
  },
  "language_info": {
   "codemirror_mode": {
    "name": "ipython",
    "version": 3
   },
   "file_extension": ".py",
   "mimetype": "text/x-python",
   "name": "python",
   "nbconvert_exporter": "python",
   "pygments_lexer": "ipython3",
   "version": "3.11.4"
  }
 },
 "nbformat": 4,
 "nbformat_minor": 5
}
